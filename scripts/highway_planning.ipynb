{
 "cells": [
  {
   "cell_type": "markdown",
   "metadata": {
    "id": "QKWvMXWMBEJA"
   },
   "source": [
    "# Behavioural Planning for Autonomous Highway Driving\n",
    "\n",
    "We plan a trajectory using the _Optimistic Planning for Deterministic systems_ ([OPD](https://hal.inria.fr/hal-00830182)) algorithm.\n"
   ]
  },
  {
   "cell_type": "code",
   "execution_count": 1,
   "metadata": {},
   "outputs": [
    {
     "name": "stdout",
     "output_type": "stream",
     "text": [
      "THIS IS THE RESET!\n",
      "{'observation': {'type': 'Kinematics'}, 'action': {'type': 'DiscreteMetaAction'}, 'simulation_frequency': 15, 'policy_frequency': 1, 'other_vehicles_type': 'highway_env.vehicle.behavior.IDMVehicle', 'screen_width': 600, 'screen_height': 150, 'centering_position': [0.3, 0.5], 'scaling': 5.5, 'show_trajectories': False, 'render_agent': True, 'offscreen_rendering': False, 'manual_control': True, 'real_time_rendering': False, 'lanes_count': 6, 'vehicles_count': 0, 'controlled_vehicles': 1, 'initial_lane_id': None, 'duration': 60, 'ego_spacing': 2, 'vehicles_density': 1, 'collision_reward': -1, 'right_lane_reward': 0.1, 'high_speed_reward': 0.4, 'lane_change_reward': 0, 'reward_speed_range': [20, 30], 'normalize_reward': True, 'offroad_terminal': False}\n",
      "THIS IS THE RESET!\n"
     ]
    },
    {
     "name": "stderr",
     "output_type": "stream",
     "text": [
      "/usr/local/lib/python3.10/site-packages/gymnasium/utils/passive_env_checker.py:42: UserWarning: \u001b[33mWARN: A Box observation space has an unconventional shape (neither an image, nor a 1D vector). We recommend flattening the observation to have only a 1D vector or use a custom policy to properly process the data. Actual observation shape: (2, 6)\u001b[0m\n",
      "  logger.warn(\n"
     ]
    },
    {
     "ename": "AttributeError",
     "evalue": "'NoneType' object has no attribute 'get_image'",
     "output_type": "error",
     "traceback": [
      "\u001b[0;31m---------------------------------------------------------------------------\u001b[0m",
      "\u001b[0;31mAttributeError\u001b[0m                            Traceback (most recent call last)",
      "Cell \u001b[0;32mIn[1], line 16\u001b[0m\n\u001b[1;32m     14\u001b[0m \u001b[39mwhile\u001b[39;00m \u001b[39mnot\u001b[39;00m (done):\n\u001b[1;32m     15\u001b[0m    action \u001b[39m=\u001b[39m env\u001b[39m.\u001b[39maction_space\u001b[39m.\u001b[39msample()\n\u001b[0;32m---> 16\u001b[0m    obs, reward, done, truncated, info \u001b[39m=\u001b[39m env\u001b[39m.\u001b[39;49mstep(action)\n\u001b[1;32m     17\u001b[0m    \u001b[39m#print(obs)\u001b[39;00m\n\u001b[1;32m     18\u001b[0m    \u001b[39m#print(info)\u001b[39;00m\n\u001b[1;32m     19\u001b[0m    obs \u001b[39m=\u001b[39m env\u001b[39m.\u001b[39mrender()\n",
      "File \u001b[0;32m/usr/local/lib/python3.10/site-packages/gymnasium/wrappers/order_enforcing.py:56\u001b[0m, in \u001b[0;36mOrderEnforcing.step\u001b[0;34m(self, action)\u001b[0m\n\u001b[1;32m     54\u001b[0m \u001b[39mif\u001b[39;00m \u001b[39mnot\u001b[39;00m \u001b[39mself\u001b[39m\u001b[39m.\u001b[39m_has_reset:\n\u001b[1;32m     55\u001b[0m     \u001b[39mraise\u001b[39;00m ResetNeeded(\u001b[39m\"\u001b[39m\u001b[39mCannot call env.step() before calling env.reset()\u001b[39m\u001b[39m\"\u001b[39m)\n\u001b[0;32m---> 56\u001b[0m \u001b[39mreturn\u001b[39;00m \u001b[39mself\u001b[39;49m\u001b[39m.\u001b[39;49menv\u001b[39m.\u001b[39;49mstep(action)\n",
      "File \u001b[0;32m/usr/local/lib/python3.10/site-packages/gymnasium/wrappers/env_checker.py:49\u001b[0m, in \u001b[0;36mPassiveEnvChecker.step\u001b[0;34m(self, action)\u001b[0m\n\u001b[1;32m     47\u001b[0m     \u001b[39mreturn\u001b[39;00m env_step_passive_checker(\u001b[39mself\u001b[39m\u001b[39m.\u001b[39menv, action)\n\u001b[1;32m     48\u001b[0m \u001b[39melse\u001b[39;00m:\n\u001b[0;32m---> 49\u001b[0m     \u001b[39mreturn\u001b[39;00m \u001b[39mself\u001b[39;49m\u001b[39m.\u001b[39;49menv\u001b[39m.\u001b[39;49mstep(action)\n",
      "File \u001b[0;32m~/Desktop/HighwayEnv-malhar/highway_env/envs/common/abstract.py:235\u001b[0m, in \u001b[0;36mAbstractEnv.step\u001b[0;34m(self, action)\u001b[0m\n\u001b[1;32m    232\u001b[0m     \u001b[39mraise\u001b[39;00m \u001b[39mNotImplementedError\u001b[39;00m(\u001b[39m\"\u001b[39m\u001b[39mThe road and vehicle must be initialized in the environment implementation\u001b[39m\u001b[39m\"\u001b[39m)\n\u001b[1;32m    234\u001b[0m \u001b[39mself\u001b[39m\u001b[39m.\u001b[39mtime \u001b[39m+\u001b[39m\u001b[39m=\u001b[39m \u001b[39m1\u001b[39m \u001b[39m/\u001b[39m \u001b[39mself\u001b[39m\u001b[39m.\u001b[39mconfig[\u001b[39m\"\u001b[39m\u001b[39mpolicy_frequency\u001b[39m\u001b[39m\"\u001b[39m]\n\u001b[0;32m--> 235\u001b[0m \u001b[39mself\u001b[39;49m\u001b[39m.\u001b[39;49m_simulate(action)\n\u001b[1;32m    237\u001b[0m obs \u001b[39m=\u001b[39m \u001b[39mself\u001b[39m\u001b[39m.\u001b[39mobservation_type\u001b[39m.\u001b[39mobserve()\n\u001b[1;32m    238\u001b[0m reward \u001b[39m=\u001b[39m \u001b[39mself\u001b[39m\u001b[39m.\u001b[39m_reward(action)\n",
      "File \u001b[0;32m~/Desktop/HighwayEnv-malhar/highway_env/envs/common/abstract.py:264\u001b[0m, in \u001b[0;36mAbstractEnv._simulate\u001b[0;34m(self, action)\u001b[0m\n\u001b[1;32m    261\u001b[0m     \u001b[39m# Automatically render intermediate simulation steps if a viewer has been launched\u001b[39;00m\n\u001b[1;32m    262\u001b[0m     \u001b[39m# Ignored if the rendering is done offscreen\u001b[39;00m\n\u001b[1;32m    263\u001b[0m     \u001b[39mif\u001b[39;00m frame \u001b[39m<\u001b[39m frames \u001b[39m-\u001b[39m \u001b[39m1\u001b[39m:  \u001b[39m# Last frame will be rendered through env.render() as usual\u001b[39;00m\n\u001b[0;32m--> 264\u001b[0m         \u001b[39mself\u001b[39;49m\u001b[39m.\u001b[39;49m_automatic_rendering()\n\u001b[1;32m    266\u001b[0m \u001b[39mself\u001b[39m\u001b[39m.\u001b[39menable_auto_render \u001b[39m=\u001b[39m \u001b[39mFalse\u001b[39;00m\n",
      "File \u001b[0;32m~/Desktop/HighwayEnv-malhar/highway_env/envs/common/abstract.py:325\u001b[0m, in \u001b[0;36mAbstractEnv._automatic_rendering\u001b[0;34m(self)\u001b[0m\n\u001b[1;32m    323\u001b[0m     \u001b[39mself\u001b[39m\u001b[39m.\u001b[39m_record_video_wrapper\u001b[39m.\u001b[39mvideo_recorder\u001b[39m.\u001b[39mcapture_frame()\n\u001b[1;32m    324\u001b[0m \u001b[39melse\u001b[39;00m:\n\u001b[0;32m--> 325\u001b[0m     \u001b[39mself\u001b[39;49m\u001b[39m.\u001b[39;49mrender()\n",
      "File \u001b[0;32m~/Desktop/HighwayEnv-malhar/highway_env/envs/common/abstract.py:292\u001b[0m, in \u001b[0;36mAbstractEnv.render\u001b[0;34m(self)\u001b[0m\n\u001b[1;32m    290\u001b[0m     \u001b[39mself\u001b[39m\u001b[39m.\u001b[39mviewer\u001b[39m.\u001b[39mhandle_events()\n\u001b[1;32m    291\u001b[0m \u001b[39mif\u001b[39;00m \u001b[39mself\u001b[39m\u001b[39m.\u001b[39mrender_mode \u001b[39m==\u001b[39m \u001b[39m'\u001b[39m\u001b[39mrgb_array\u001b[39m\u001b[39m'\u001b[39m:\n\u001b[0;32m--> 292\u001b[0m     image \u001b[39m=\u001b[39m \u001b[39mself\u001b[39;49m\u001b[39m.\u001b[39;49mviewer\u001b[39m.\u001b[39;49mget_image()\n\u001b[1;32m    293\u001b[0m     \u001b[39mreturn\u001b[39;00m image\n",
      "\u001b[0;31mAttributeError\u001b[0m: 'NoneType' object has no attribute 'get_image'"
     ]
    },
    {
     "ename": "",
     "evalue": "",
     "output_type": "error",
     "traceback": [
      "\u001b[1;31mThe Kernel crashed while executing code in the the current cell or a previous cell. Please review the code in the cell(s) to identify a possible cause of the failure. Click <a href='https://aka.ms/vscodeJupyterKernelCrash'>here</a> for more info. View Jupyter <a href='command:jupyter.viewOutput'>log</a> for further details."
     ]
    }
   ],
   "source": [
    "import gymnasium as gym\n",
    "import numpy as np \n",
    "from datetime import datetime\n",
    "\n",
    "output = datetime.now().strftime(\"%Y_%m_%d%H:%M:%S\")\n",
    "output = output + \".npy\"\n",
    "env = gym.make('highway-v0', render_mode='rgb_array')\n",
    "env.configure({\n",
    "    \"manual_control\": True\n",
    "})\n",
    "print(env.config)\n",
    "obs, info = env.reset()\n",
    "done = truncated = False\n",
    "while not (done):\n",
    "   action = env.action_space.sample()\n",
    "   obs, reward, done, truncated, info = env.step(action)\n",
    "   print(obs)\n",
    "   print(info)\n",
    "   obs = env.render()\n",
    "\n",
    "print(\"TEST\")\n",
    "print(output)\n",
    "with open(output, 'wb') as f:\n",
    "    np.save(f, obs, info)\n",
    "data = np.load(output)\n",
    "print(data)\n",
    "env.close()"
   ]
  },
  {
   "cell_type": "code",
   "execution_count": null,
   "metadata": {
    "id": "s-ghXis6A_md"
   },
   "outputs": [
    {
     "name": "stdout",
     "output_type": "stream",
     "text": [
      "Requirement already satisfied: highway-env in /usr/local/lib/python3.10/site-packages (1.8.1)\n",
      "Requirement already satisfied: numpy in /usr/local/lib/python3.10/site-packages (from highway-env) (1.23.5)\n",
      "Requirement already satisfied: pygame>=2.0.2 in /Users/malhardamle/Library/Python/3.10/lib/python/site-packages (from highway-env) (2.4.0)\n",
      "Requirement already satisfied: pandas in /usr/local/lib/python3.10/site-packages (from highway-env) (1.5.3)\n",
      "Requirement already satisfied: gymnasium>=0.27 in /usr/local/lib/python3.10/site-packages (from highway-env) (0.28.1)\n",
      "Requirement already satisfied: matplotlib in /usr/local/lib/python3.10/site-packages (from highway-env) (3.7.1)\n",
      "Requirement already satisfied: scipy in /usr/local/lib/python3.10/site-packages (from highway-env) (1.10.1)\n",
      "Requirement already satisfied: typing-extensions>=4.3.0 in /usr/local/lib/python3.10/site-packages (from gymnasium>=0.27->highway-env) (4.5.0)\n",
      "Requirement already satisfied: jax-jumpy>=1.0.0 in /usr/local/lib/python3.10/site-packages (from gymnasium>=0.27->highway-env) (1.0.0)\n",
      "Requirement already satisfied: farama-notifications>=0.0.1 in /usr/local/lib/python3.10/site-packages (from gymnasium>=0.27->highway-env) (0.0.4)\n",
      "Requirement already satisfied: cloudpickle>=1.2.0 in /usr/local/lib/python3.10/site-packages (from gymnasium>=0.27->highway-env) (2.2.1)\n",
      "Requirement already satisfied: cycler>=0.10 in /usr/local/lib/python3.10/site-packages (from matplotlib->highway-env) (0.11.0)\n",
      "Requirement already satisfied: pillow>=6.2.0 in /usr/local/lib/python3.10/site-packages (from matplotlib->highway-env) (9.4.0)\n",
      "Requirement already satisfied: fonttools>=4.22.0 in /usr/local/lib/python3.10/site-packages (from matplotlib->highway-env) (4.39.3)\n",
      "Requirement already satisfied: pyparsing>=2.3.1 in /usr/local/lib/python3.10/site-packages (from matplotlib->highway-env) (3.0.9)\n",
      "Requirement already satisfied: python-dateutil>=2.7 in /usr/local/lib/python3.10/site-packages (from matplotlib->highway-env) (2.8.2)\n",
      "Requirement already satisfied: contourpy>=1.0.1 in /usr/local/lib/python3.10/site-packages (from matplotlib->highway-env) (1.0.7)\n",
      "Requirement already satisfied: packaging>=20.0 in /usr/local/lib/python3.10/site-packages (from matplotlib->highway-env) (23.0)\n",
      "Requirement already satisfied: kiwisolver>=1.0.1 in /usr/local/lib/python3.10/site-packages (from matplotlib->highway-env) (1.4.4)\n",
      "Requirement already satisfied: pytz>=2020.1 in /usr/local/lib/python3.10/site-packages (from pandas->highway-env) (2023.3)\n",
      "Requirement already satisfied: six>=1.5 in /usr/local/lib/python3.10/site-packages (from python-dateutil>=2.7->matplotlib->highway-env) (1.16.0)\n",
      "\n",
      "\u001b[1m[\u001b[0m\u001b[34;49mnotice\u001b[0m\u001b[1;39;49m]\u001b[0m\u001b[39;49m A new release of pip is available: \u001b[0m\u001b[31;49m23.0.1\u001b[0m\u001b[39;49m -> \u001b[0m\u001b[32;49m23.1.2\u001b[0m\n",
      "\u001b[1m[\u001b[0m\u001b[34;49mnotice\u001b[0m\u001b[1;39;49m]\u001b[0m\u001b[39;49m To update, run: \u001b[0m\u001b[32;49mpython3.10 -m pip install --upgrade pip\u001b[0m\n",
      "Collecting rl-agents\n",
      "  Cloning https://github.com/eleurent/rl-agents to /private/var/folders/9y/v0kyt89958g_96yjb094fqrr0000gn/T/pip-install-c49qc4p1/rl-agents_9e7e4ae38d0a40f9ba11733aa1206e0c\n",
      "  Running command git clone --filter=blob:none --quiet https://github.com/eleurent/rl-agents /private/var/folders/9y/v0kyt89958g_96yjb094fqrr0000gn/T/pip-install-c49qc4p1/rl-agents_9e7e4ae38d0a40f9ba11733aa1206e0c\n",
      "  Resolved https://github.com/eleurent/rl-agents to commit f205ca5b99535aade0b7488aa003bf959839308c\n",
      "  Preparing metadata (setup.py) ... \u001b[?25ldone\n",
      "\u001b[?25hRequirement already satisfied: gymnasium in /usr/local/lib/python3.10/site-packages (from rl-agents) (0.28.1)\n",
      "Requirement already satisfied: numpy in /usr/local/lib/python3.10/site-packages (from rl-agents) (1.23.5)\n",
      "Requirement already satisfied: pandas in /usr/local/lib/python3.10/site-packages (from rl-agents) (1.5.3)\n",
      "Requirement already satisfied: numba in /usr/local/lib/python3.10/site-packages (from rl-agents) (0.56.4)\n",
      "Requirement already satisfied: pygame in /Users/malhardamle/Library/Python/3.10/lib/python/site-packages (from rl-agents) (2.4.0)\n",
      "Requirement already satisfied: matplotlib in /usr/local/lib/python3.10/site-packages (from rl-agents) (3.7.1)\n",
      "Requirement already satisfied: seaborn in /usr/local/lib/python3.10/site-packages (from rl-agents) (0.12.2)\n",
      "Requirement already satisfied: six in /usr/local/lib/python3.10/site-packages (from rl-agents) (1.16.0)\n",
      "Requirement already satisfied: docopt in /usr/local/lib/python3.10/site-packages (from rl-agents) (0.6.2)\n",
      "Requirement already satisfied: torch>=1.2.0 in /usr/local/lib/python3.10/site-packages (from rl-agents) (2.0.0)\n",
      "Requirement already satisfied: tensorboardX in /usr/local/lib/python3.10/site-packages (from rl-agents) (2.6)\n",
      "Requirement already satisfied: scipy in /usr/local/lib/python3.10/site-packages (from rl-agents) (1.10.1)\n",
      "Requirement already satisfied: jinja2 in /usr/local/lib/python3.10/site-packages (from torch>=1.2.0->rl-agents) (3.1.2)\n",
      "Requirement already satisfied: sympy in /usr/local/lib/python3.10/site-packages (from torch>=1.2.0->rl-agents) (1.11.1)\n",
      "Requirement already satisfied: networkx in /usr/local/lib/python3.10/site-packages (from torch>=1.2.0->rl-agents) (3.1)\n",
      "Requirement already satisfied: filelock in /usr/local/lib/python3.10/site-packages (from torch>=1.2.0->rl-agents) (3.11.0)\n",
      "Requirement already satisfied: typing-extensions in /usr/local/lib/python3.10/site-packages (from torch>=1.2.0->rl-agents) (4.5.0)\n",
      "Requirement already satisfied: farama-notifications>=0.0.1 in /usr/local/lib/python3.10/site-packages (from gymnasium->rl-agents) (0.0.4)\n",
      "Requirement already satisfied: cloudpickle>=1.2.0 in /usr/local/lib/python3.10/site-packages (from gymnasium->rl-agents) (2.2.1)\n",
      "Requirement already satisfied: jax-jumpy>=1.0.0 in /usr/local/lib/python3.10/site-packages (from gymnasium->rl-agents) (1.0.0)\n",
      "Requirement already satisfied: kiwisolver>=1.0.1 in /usr/local/lib/python3.10/site-packages (from matplotlib->rl-agents) (1.4.4)\n",
      "Requirement already satisfied: cycler>=0.10 in /usr/local/lib/python3.10/site-packages (from matplotlib->rl-agents) (0.11.0)\n",
      "Requirement already satisfied: python-dateutil>=2.7 in /usr/local/lib/python3.10/site-packages (from matplotlib->rl-agents) (2.8.2)\n",
      "Requirement already satisfied: fonttools>=4.22.0 in /usr/local/lib/python3.10/site-packages (from matplotlib->rl-agents) (4.39.3)\n",
      "Requirement already satisfied: pyparsing>=2.3.1 in /usr/local/lib/python3.10/site-packages (from matplotlib->rl-agents) (3.0.9)\n",
      "Requirement already satisfied: contourpy>=1.0.1 in /usr/local/lib/python3.10/site-packages (from matplotlib->rl-agents) (1.0.7)\n",
      "Requirement already satisfied: packaging>=20.0 in /usr/local/lib/python3.10/site-packages (from matplotlib->rl-agents) (23.0)\n",
      "Requirement already satisfied: pillow>=6.2.0 in /usr/local/lib/python3.10/site-packages (from matplotlib->rl-agents) (9.4.0)\n",
      "Requirement already satisfied: llvmlite<0.40,>=0.39.0dev0 in /usr/local/lib/python3.10/site-packages (from numba->rl-agents) (0.39.1)\n",
      "Requirement already satisfied: setuptools in /usr/local/lib/python3.10/site-packages (from numba->rl-agents) (67.6.1)\n",
      "Requirement already satisfied: pytz>=2020.1 in /usr/local/lib/python3.10/site-packages (from pandas->rl-agents) (2023.3)\n",
      "Requirement already satisfied: protobuf<4,>=3.8.0 in /usr/local/lib/python3.10/site-packages (from tensorboardX->rl-agents) (3.20.3)\n",
      "Requirement already satisfied: MarkupSafe>=2.0 in /usr/local/lib/python3.10/site-packages (from jinja2->torch>=1.2.0->rl-agents) (2.1.2)\n",
      "Requirement already satisfied: mpmath>=0.19 in /usr/local/lib/python3.10/site-packages (from sympy->torch>=1.2.0->rl-agents) (1.3.0)\n"
     ]
    },
    {
     "name": "stdout",
     "output_type": "stream",
     "text": [
      "\n",
      "\u001b[1m[\u001b[0m\u001b[34;49mnotice\u001b[0m\u001b[1;39;49m]\u001b[0m\u001b[39;49m A new release of pip is available: \u001b[0m\u001b[31;49m23.0.1\u001b[0m\u001b[39;49m -> \u001b[0m\u001b[32;49m23.1.2\u001b[0m\n",
      "\u001b[1m[\u001b[0m\u001b[34;49mnotice\u001b[0m\u001b[1;39;49m]\u001b[0m\u001b[39;49m To update, run: \u001b[0m\u001b[32;49mpython3.10 -m pip install --upgrade pip\u001b[0m\n"
     ]
    }
   ],
   "source": [
    "#@title Imports for env, agent, and visualisation.\n",
    "# Environment\n",
    "!pip install highway-env\n",
    "import gymnasium as gym\n",
    "import highway_env\n",
    "\n",
    "# Agent\n",
    "!pip install git+https://github.com/eleurent/rl-agents#egg=rl-agents\n",
    "from rl_agents.agents.common.factory import agent_factory\n",
    "\n",
    "# Visualisation\n",
    "import sys\n",
    "from tqdm.notebook import trange\n",
    "!pip install moviepy -U\n",
    "!pip install imageio_ffmpeg\n",
    "!pip install pyvirtualdisplay\n",
    "!apt-get install -y xvfb python-opengl ffmpeg\n",
    "!git clone https://github.com/eleurent/highway-env.git\n",
    "sys.path.insert(0, './highway-env/scripts/')\n",
    "from utils import record_videos, show_videos\n"
   ]
  },
  {
   "cell_type": "code",
   "execution_count": null,
   "metadata": {
    "id": "bgNDDWwqCj8l"
   },
   "outputs": [],
   "source": [
    "#@title Run an episode\n",
    "\n",
    "# Make environment\n",
    "env = gym.make(\"highway-fast-v0\", render_mode=\"rgb_array\")\n",
    "env = record_videos(env)\n",
    "(obs, info), done = env.reset(), False\n",
    "\n",
    "# Make agent\n",
    "agent_config = {\n",
    "    \"__class__\": \"<class 'rl_agents.agents.tree_search.deterministic.DeterministicPlannerAgent'>\",\n",
    "    \"env_preprocessors\": [{\"method\":\"simplify\"}],\n",
    "    \"budget\": 50,\n",
    "    \"gamma\": 0.7,\n",
    "}\n",
    "agent = agent_factory(env, agent_config)\n",
    "\n",
    "# Run episode\n",
    "for step in trange(env.unwrapped.config[\"duration\"], desc=\"Running...\"):\n",
    "    action = agent.act(obs)\n",
    "    obs, reward, done, truncated, info = env.step(action)\n",
    "    \n",
    "env.close()\n",
    "show_videos()"
   ]
  },
  {
   "cell_type": "code",
   "execution_count": null,
   "metadata": {},
   "outputs": [],
   "source": []
  }
 ],
 "metadata": {
  "colab": {
   "name": "highway-planning.ipynb",
   "provenance": []
  },
  "kernelspec": {
   "display_name": "Python 3 (ipykernel)",
   "language": "python",
   "name": "python3"
  },
  "language_info": {
   "codemirror_mode": {
    "name": "ipython",
    "version": 3
   },
   "file_extension": ".py",
   "mimetype": "text/x-python",
   "name": "python",
   "nbconvert_exporter": "python",
   "pygments_lexer": "ipython3",
   "version": "3.10.11"
  },
  "pycharm": {
   "stem_cell": {
    "cell_type": "raw",
    "metadata": {
     "collapsed": false
    },
    "source": []
   }
  }
 },
 "nbformat": 4,
 "nbformat_minor": 1
}

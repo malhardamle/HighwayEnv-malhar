{
 "cells": [
  {
   "cell_type": "markdown",
   "metadata": {
    "id": "QKWvMXWMBEJA"
   },
   "source": [
    "# Behavioural Planning for Autonomous Highway Driving\n",
    "\n",
    "We plan a trajectory using the _Optimistic Planning for Deterministic systems_ ([OPD](https://hal.inria.fr/hal-00830182)) algorithm.\n"
   ]
  },
  {
   "cell_type": "code",
   "execution_count": null,
   "metadata": {},
   "outputs": [],
   "source": [
    "#@title Imports for env, agent, and visualisation.\n",
    "# Environment\n",
    "!pip install highway-env\n",
    "import gymnasium as gym\n",
    "import highway_env\n",
    "\n",
    "# Agent\n",
    "!pip install git+https://github.com/eleurent/rl-agents#egg=rl-agents\n",
    "from rl_agents.agents.common.factory import agent_factory\n",
    "\n",
    "# Visualisation\n",
    "import sys\n",
    "from tqdm.notebook import trange\n",
    "!pip install moviepy -U\n",
    "!pip install imageio_ffmpeg\n",
    "!pip install pyvirtualdisplay\n",
    "!apt-get install -y xvfb python-opengl ffmpeg\n",
    "!git clone https://github.com/eleurent/highway-env.git\n",
    "sys.path.insert(0, './highway-env/scripts/')\n",
    "from utils import record_videos, show_videos\n"
   ]
  },
  {
   "cell_type": "code",
   "execution_count": 1,
   "metadata": {},
   "outputs": [
    {
     "name": "stdout",
     "output_type": "stream",
     "text": [
      "THIS IS THE RESET!\n",
      "{'observation': {'type': 'Kinematics', 'vehicles_count': 3, 'features': ['car_id', 'presence', 'x', 'y', 'vx', 'vy'], 'features_range': {'x': [-100, 100], 'y': [-100, 100], 'vx': [-20, 50], 'vy': [-20, 50]}, 'absolute': False, 'order': 'sorted'}, 'action': {'type': 'DiscreteMetaAction'}, 'simulation_frequency': 15, 'policy_frequency': 1, 'other_vehicles_type': 'highway_env.vehicle.behavior.IDMVehicle', 'screen_width': 600, 'screen_height': 150, 'centering_position': [0.3, 0.5], 'scaling': 5.5, 'show_trajectories': False, 'render_agent': True, 'offscreen_rendering': False, 'manual_control': True, 'real_time_rendering': False, 'lanes_count': 6, 'vehicles_count': 0, 'controlled_vehicles': 1, 'initial_lane_id': None, 'duration': 60, 'ego_spacing': 2, 'vehicles_density': 1, 'collision_reward': -1, 'right_lane_reward': 0.1, 'high_speed_reward': 0.4, 'lane_change_reward': 0, 'reward_speed_range': [20, 30], 'normalize_reward': True, 'offroad_terminal': False}\n",
      "THIS IS THE RESET!\n",
      "Obs: [[ 0.          1.          1.          0.16        0.2857143  -0.42857143]\n",
      " [ 0.          0.          0.          0.          0.          0.        ]\n",
      " [ 0.          0.          0.          0.          0.          0.        ]]\n",
      "Action: 1\n"
     ]
    },
    {
     "name": "stderr",
     "output_type": "stream",
     "text": [
      "/Users/malhardamle/Desktop/HighwayEnv-malhar/.venv/lib/python3.9/site-packages/gymnasium/utils/passive_env_checker.py:42: UserWarning: \u001b[33mWARN: A Box observation space has an unconventional shape (neither an image, nor a 1D vector). We recommend flattening the observation to have only a 1D vector or use a custom policy to properly process the data. Actual observation shape: (2, 6)\u001b[0m\n",
      "  logger.warn(\n"
     ]
    },
    {
     "name": "stdout",
     "output_type": "stream",
     "text": [
      "obs [[ 0.          1.          1.          0.16        0.2857143  -0.42857143]\n",
      " [ 0.          0.          0.          0.          0.          0.        ]\n",
      " [ 0.          0.          0.          0.          0.          0.        ]]\n",
      "Action: 3\n",
      "obs [[ 0.          1.          1.          0.16        0.2857143  -0.42857143]\n",
      " [ 0.          0.          0.          0.          0.          0.        ]\n",
      " [ 0.          0.          0.          0.          0.          0.        ]]\n",
      "Action: 0\n",
      "obs [[ 0.          1.          1.          0.16        0.2857143  -0.42857143]\n",
      " [ 0.          0.          0.          0.          0.          0.        ]\n",
      " [ 0.          0.          0.          0.          0.          0.        ]]\n",
      "Action: 2\n",
      "obs [[ 0.          1.          1.          0.16        0.2857143  -0.42857143]\n",
      " [ 0.          0.          0.          0.          0.          0.        ]\n",
      " [ 0.          0.          0.          0.          0.          0.        ]]\n",
      "Action: 4\n",
      "obs [[ 0.          1.          1.          0.16        0.2857143  -0.42857143]\n",
      " [ 1.          1.         -0.09839459 -0.04       -0.2857226  -0.42857143]\n",
      " [ 0.          0.          0.          0.          0.          0.        ]]\n",
      "Action: 1\n",
      "obs [[ 0.          1.          1.          0.16        0.2857143  -0.42857143]\n",
      " [ 1.          1.         -0.04839604 -0.04       -0.2857157  -0.42857143]\n",
      " [ 0.          0.          0.          0.          0.          0.        ]]\n",
      "Action: 4\n",
      "obs [[ 0.          1.          1.          0.13363265  0.00563018 -0.50389236]\n",
      " [ 1.          1.         -0.00296677 -0.02397145 -0.33395    -0.35325047]\n",
      " [ 0.          0.          0.          0.          0.          0.        ]]\n",
      "Saved to: 07_17_23:03.npy\n"
     ]
    }
   ],
   "source": [
    "import gymnasium as gym\n",
    "import numpy as np \n",
    "from datetime import datetime\n",
    "import csv\n",
    "np.random.seed(1)\n",
    "output = datetime.now().strftime(\"%m_%d_%H:%M\")\n",
    "output = output + \".npy\"\n",
    "env = gym.make('highway-v0', render_mode='rgb_array')\n",
    "env.configure({\n",
    "    \"manual_control\": True,\n",
    "    \"observation\": {\n",
    "        \"type\": \"Kinematics\",\n",
    "        \"vehicles_count\": 3,\n",
    "        \"features\": [\"car_id\",\"presence\", \"x\", \"y\", \"vx\", \"vy\"],\n",
    "        \"features_range\": {\n",
    "            \"x\": [-100, 100],\n",
    "            \"y\": [-100, 100],\n",
    "            \"vx\": [-20, 50],\n",
    "            \"vy\": [-20, 50]\n",
    "        },\n",
    "        \"absolute\": False,\n",
    "        \"order\": \"sorted\"\n",
    "    }\n",
    "})\n",
    "print(env.config)\n",
    "obs, info = env.reset(seed = 1) #collect a single episode (replay for later)\n",
    "print(\"Obs:\", obs)\n",
    "done = truncated = False\n",
    "data = []\n",
    "reward = 0\n",
    "while not (done or truncated):\n",
    "   action = env.action_space.sample() \n",
    "   data.append({'action': action, 'reward': reward, 'obs': obs, 'info': info, 'done':done})\n",
    "   print(\"Action:\", action)\n",
    "   obs = env.render()\n",
    "   obs, reward, done, truncated, info = env.step(action)\n",
    "   print(\"obs\", obs)\n",
    " \n",
    "np.save(output, data)\n",
    "print(\"Saved to:\", output)\n",
    "env.close()"
   ]
  },
  {
   "cell_type": "code",
   "execution_count": null,
   "metadata": {},
   "outputs": [],
   "source": [
    "!pip show gymnasium"
   ]
  }
 ],
 "metadata": {
  "colab": {
   "name": "highway-planning.ipynb",
   "provenance": []
  },
  "kernelspec": {
   "display_name": "Python 3 (ipykernel)",
   "language": "python",
   "name": "python3"
  },
  "language_info": {
   "codemirror_mode": {
    "name": "ipython",
    "version": 3
   },
   "file_extension": ".py",
   "mimetype": "text/x-python",
   "name": "python",
   "nbconvert_exporter": "python",
   "pygments_lexer": "ipython3",
   "version": "3.9.6"
  },
  "pycharm": {
   "stem_cell": {
    "cell_type": "raw",
    "metadata": {
     "collapsed": false
    },
    "source": []
   }
  }
 },
 "nbformat": 4,
 "nbformat_minor": 1
}

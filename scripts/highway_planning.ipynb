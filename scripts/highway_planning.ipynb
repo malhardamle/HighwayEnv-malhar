{
 "cells": [
  {
   "cell_type": "markdown",
   "metadata": {
    "id": "QKWvMXWMBEJA"
   },
   "source": [
    "# Behavioural Planning for Autonomous Highway Driving\n",
    "\n",
    "We plan a trajectory using the _Optimistic Planning for Deterministic systems_ ([OPD](https://hal.inria.fr/hal-00830182)) algorithm.\n"
   ]
  },
  {
   "cell_type": "code",
   "execution_count": null,
   "metadata": {},
   "outputs": [],
   "source": [
    "#@title Imports for env, agent, and visualisation.\n",
    "# Environment\n",
    "!pip install highway-env\n",
    "import gymnasium as gym\n",
    "import highway_env\n",
    "\n",
    "# Agent\n",
    "!pip install git+https://github.com/eleurent/rl-agents#egg=rl-agents\n",
    "from rl_agents.agents.common.factory import agent_factory\n",
    "\n",
    "# Visualisation\n",
    "import sys\n",
    "from tqdm.notebook import trange\n",
    "!pip install moviepy -U\n",
    "!pip install imageio_ffmpeg\n",
    "!pip install pyvirtualdisplay\n",
    "!apt-get install -y xvfb python-opengl ffmpeg\n",
    "!git clone https://github.com/eleurent/highway-env.git\n",
    "sys.path.insert(0, './highway-env/scripts/')\n",
    "from utils import record_videos, show_videos\n"
   ]
  },
  {
   "cell_type": "code",
   "execution_count": null,
   "metadata": {},
   "outputs": [
    {
     "ename": "",
     "evalue": "",
     "output_type": "error",
     "traceback": [
      "\u001b[1;31mThe Kernel crashed while executing code in the the current cell or a previous cell. Please review the code in the cell(s) to identify a possible cause of the failure. Click <a href='https://aka.ms/vscodeJupyterKernelCrash'>here</a> for more info. View Jupyter <a href='command:jupyter.viewOutput'>log</a> for further details."
     ]
    }
   ],
   "source": [
    "import gymnasium as gym\n",
    "import numpy as np \n",
    "from datetime import datetime, time\n",
    "import random\n",
    "import os\n",
    "output = datetime.now().strftime(\"%m_%d_%H:%M\")\n",
    "output =  output + \".npy\"\n",
    "\n",
    "env = gym.make('highway-v0', render_mode='rgb_array')\n",
    "env.configure({\n",
    "    \"manual_control\": True,\n",
    "    \"observation\": {\n",
    "        \"type\": \"Kinematics\",\n",
    "        \"vehicles_count\": 3,\n",
    "        \"features\": [\"car_id\",\"presence\", \"x\", \"y\", \"vx\", \"vy\"],\n",
    "        \"features_range\": {\n",
    "            \"x\": [-100, 100],\n",
    "            \"y\": [-100, 100],\n",
    "            \"vx\": [-20, 50],\n",
    "            \"vy\": [-20, 50]\n",
    "        },\n",
    "        \"absolute\": False,\n",
    "        \"order\": \"sorted\"\n",
    "    }\n",
    "})\n",
    "print(env.config)\n",
    "obs, info = env.reset(seed = 1) #collect a single episode (replay for later)\n",
    "print(\"Obs:\", obs)\n",
    "done = truncated = False\n",
    "data = []\n",
    "reward = 0\n",
    "while not (done or truncated):\n",
    "   action = env.action_space.sample() \n",
    "   data.append({'action': action, 'reward': reward, 'obs': obs, 'info': info, 'done':done})\n",
    "   print(\"Action:\", action)\n",
    "   obs = env.render()\n",
    "   obs, reward, done, truncated, info = env.step(action)\n",
    "   print(\"obs\", obs)\n",
    " \n",
    "np.save('training_data/' + output, data)\n",
    "print(\"Saved to:\", output)\n",
    "env.close()\n",
    "\n",
    "time.sleep(5)\n",
    "os._exit(00)"
   ]
  }
 ],
 "metadata": {
  "colab": {
   "name": "highway-planning.ipynb",
   "provenance": []
  },
  "kernelspec": {
   "display_name": "Python 3 (ipykernel)",
   "language": "python",
   "name": "python3"
  },
  "language_info": {
   "codemirror_mode": {
    "name": "ipython",
    "version": 3
   },
   "file_extension": ".py",
   "mimetype": "text/x-python",
   "name": "python",
   "nbconvert_exporter": "python",
   "pygments_lexer": "ipython3",
   "version": "3.9.6"
  },
  "pycharm": {
   "stem_cell": {
    "cell_type": "raw",
    "metadata": {
     "collapsed": false
    },
    "source": []
   }
  }
 },
 "nbformat": 4,
 "nbformat_minor": 1
}
